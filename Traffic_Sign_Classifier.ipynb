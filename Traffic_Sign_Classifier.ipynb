{
 "cells": [
  {
   "cell_type": "markdown",
   "metadata": {},
   "source": [
    "# Self-Driving Car Engineer Nanodegree\n",
    "\n",
    "## Deep Learning\n",
    "\n",
    "## Project: Build a Traffic Sign Recognition Classifier\n",
    "\n",
    "In this notebook, a template is provided for you to implement your functionality in stages, which is required to successfully complete this project. If additional code is required that cannot be included in the notebook, be sure that the Python code is successfully imported and included in your submission if necessary. \n",
    "\n",
    "> **Note**: Once you have completed all of the code implementations, you need to finalize your work by exporting the iPython Notebook as an HTML document. Before exporting the notebook to html, all of the code cells need to have been run so that reviewers can see the final implementation and output. You can then export the notebook by using the menu above and navigating to  \\n\",\n",
    "    \"**File -> Download as -> HTML (.html)**. Include the finished document along with this notebook as your submission. \n",
    "\n",
    "In addition to implementing code, there is a writeup to complete. The writeup should be completed in a separate file, which can be either a markdown file or a pdf document. There is a [write up template](https://github.com/udacity/CarND-Traffic-Sign-Classifier-Project/blob/master/writeup_template.md) that can be used to guide the writing process. Completing the code template and writeup template will cover all of the [rubric points](https://review.udacity.com/#!/rubrics/481/view) for this project.\n",
    "\n",
    "The [rubric](https://review.udacity.com/#!/rubrics/481/view) contains \"Stand Out Suggestions\" for enhancing the project beyond the minimum requirements. The stand out suggestions are optional. If you decide to pursue the \"stand out suggestions\", you can include the code in this Ipython notebook and also discuss the results in the writeup file.\n",
    "\n",
    "\n",
    ">**Note:** Code and Markdown cells can be executed using the **Shift + Enter** keyboard shortcut. In addition, Markdown cells can be edited by typically double-clicking the cell to enter edit mode."
   ]
  },
  {
   "cell_type": "markdown",
   "metadata": {},
   "source": [
    "---\n",
    "## Step 0: Load The Data"
   ]
  },
  {
   "cell_type": "code",
   "execution_count": 1,
   "metadata": {
    "collapsed": true
   },
   "outputs": [],
   "source": [
    "# Load pickled data\n",
    "import pickle\n",
    "\n",
    "training_file = \"train.p\"\n",
    "validation_file= \"valid.p\"\n",
    "testing_file = \"test.p\"\n",
    "\n",
    "with open(training_file, mode='rb') as f:\n",
    "    train = pickle.load(f)\n",
    "with open(validation_file, mode='rb') as f:\n",
    "    valid = pickle.load(f)\n",
    "with open(testing_file, mode='rb') as f:\n",
    "    test = pickle.load(f)\n",
    "    \n",
    "X_train, y_train = train['features'], train['labels']\n",
    "X_valid, y_valid = valid['features'], valid['labels']\n",
    "X_test, y_test = test['features'], test['labels']"
   ]
  },
  {
   "cell_type": "markdown",
   "metadata": {},
   "source": [
    "---\n",
    "\n",
    "## Step 1: Dataset Summary & Exploration\n",
    "\n",
    "The pickled data is a dictionary with 4 key/value pairs:\n",
    "\n",
    "- `'features'` is a 4D array containing raw pixel data of the traffic sign images, (num examples, width, height, channels).\n",
    "- `'labels'` is a 1D array containing the label/class id of the traffic sign. The file `signnames.csv` contains id -> name mappings for each id.\n",
    "- `'sizes'` is a list containing tuples, (width, height) representing the original width and height the image.\n",
    "- `'coords'` is a list containing tuples, (x1, y1, x2, y2) representing coordinates of a bounding box around the sign in the image. **THESE COORDINATES ASSUME THE ORIGINAL IMAGE. THE PICKLED DATA CONTAINS RESIZED VERSIONS (32 by 32) OF THESE IMAGES**\n",
    "\n",
    "Complete the basic data summary below. Use python, numpy and/or pandas methods to calculate the data summary rather than hard coding the results. For example, the [pandas shape method](http://pandas.pydata.org/pandas-docs/stable/generated/pandas.DataFrame.shape.html) might be useful for calculating some of the summary results. "
   ]
  },
  {
   "cell_type": "markdown",
   "metadata": {},
   "source": [
    "### Provide a Basic Summary of the Data Set Using Python, Numpy and/or Pandas"
   ]
  },
  {
   "cell_type": "code",
   "execution_count": 2,
   "metadata": {},
   "outputs": [
    {
     "name": "stdout",
     "output_type": "stream",
     "text": [
      "Number of training examples = 34799\n",
      "Number of testing examples = 12630\n",
      "Image data shape = (32, 32, 3)\n",
      "Number of classes = 43\n"
     ]
    }
   ],
   "source": [
    "### Replace each question mark with the appropriate value. \n",
    "### Use python, pandas or numpy methods rather than hard coding the results\n",
    "\n",
    "# Number of training examples\n",
    "n_train = len(X_train)\n",
    "\n",
    "# Number of validation examples\n",
    "n_validation = len(X_valid)\n",
    "\n",
    "# Number of testing examples.\n",
    "n_test = len(X_test)\n",
    "\n",
    "# What's the shape of an traffic sign image?\n",
    "image_shape = X_test[0].shape\n",
    "\n",
    "# TODO: How many unique classes/labels there are in the dataset.\n",
    "n_classes = len(set(y_train))\n",
    "\n",
    "print(\"Number of training examples =\", n_train)\n",
    "print(\"Number of testing examples =\", n_test)\n",
    "print(\"Image data shape =\", image_shape)\n",
    "print(\"Number of classes =\", n_classes)"
   ]
  },
  {
   "cell_type": "code",
   "execution_count": null,
   "metadata": {},
   "outputs": [],
   "source": [
    "print(min(y_train), max(y_train))"
   ]
  },
  {
   "cell_type": "markdown",
   "metadata": {},
   "source": [
    "### Include an exploratory visualization of the dataset"
   ]
  },
  {
   "cell_type": "markdown",
   "metadata": {},
   "source": [
    "Visualize the German Traffic Signs Dataset using the pickled file(s). This is open ended, suggestions include: plotting traffic sign images, plotting the count of each sign, etc. \n",
    "\n",
    "The [Matplotlib](http://matplotlib.org/) [examples](http://matplotlib.org/examples/index.html) and [gallery](http://matplotlib.org/gallery.html) pages are a great resource for doing visualizations in Python.\n",
    "\n",
    "**NOTE:** It's recommended you start with something simple first. If you wish to do more, come back to it after you've completed the rest of the sections. It can be interesting to look at the distribution of classes in the training, validation and test set. Is the distribution the same? Are there more examples of some classes than others?"
   ]
  },
  {
   "cell_type": "code",
   "execution_count": 3,
   "metadata": {},
   "outputs": [
    {
     "name": "stdout",
     "output_type": "stream",
     "text": [
      "113 19 uint8\n"
     ]
    },
    {
     "data": {
      "text/plain": [
       "<matplotlib.image.AxesImage at 0x7f80a8ea2940>"
      ]
     },
     "execution_count": 3,
     "metadata": {},
     "output_type": "execute_result"
    },
    {
     "data": {
      "image/png": "[encoded data removed]",
      "text/plain": [
       "<matplotlib.figure.Figure at 0x7f80dc6ff4e0>"
      ]
     },
     "metadata": {},
     "output_type": "display_data"
    }
   ],
   "source": [
    "### Data exploration visualization code goes here.\n",
    "### Feel free to use as many code cells as needed.\n",
    "import matplotlib.pyplot as plt\n",
    "import numpy as np\n",
    "# Visualizations will be shown in the notebook.\n",
    "%matplotlib inline\n",
    "print(np.max(X_train[0]), np.min(X_train[0]), X_train[0].dtype)\n",
    "plt.imshow(X_train[0])\n"
   ]
  },
  {
   "cell_type": "markdown",
   "metadata": {},
   "source": [
    "----\n",
    "\n",
    "## Step 2: Design and Test a Model Architecture\n",
    "\n",
    "Design and implement a deep learning model that learns to recognize traffic signs. Train and test your model on the [German Traffic Sign Dataset](http://benchmark.ini.rub.de/?section=gtsrb&subsection=dataset).\n",
    "\n",
    "The LeNet-5 implementation shown in the [classroom](https://classroom.udacity.com/nanodegrees/nd013/parts/fbf77062-5703-404e-b60c-95b78b2f3f9e/modules/6df7ae49-c61c-4bb2-a23e-6527e69209ec/lessons/601ae704-1035-4287-8b11-e2c2716217ad/concepts/d4aca031-508f-4e0b-b493-e7b706120f81) at the end of the CNN lesson is a solid starting point. You'll have to change the number of classes and possibly the preprocessing, but aside from that it's plug and play! \n",
    "\n",
    "With the LeNet-5 solution from the lecture, you should expect a validation set accuracy of about 0.89. To meet specifications, the validation set accuracy will need to be at least 0.93. It is possible to get an even higher accuracy, but 0.93 is the minimum for a successful project submission. \n",
    "\n",
    "There are various aspects to consider when thinking about this problem:\n",
    "\n",
    "- Neural network architecture (is the network over or underfitting?)\n",
    "- Play around preprocessing techniques (normalization, rgb to grayscale, etc)\n",
    "- Number of examples per label (some have more than others).\n",
    "- Generate fake data.\n",
    "\n",
    "Here is an example of a [published baseline model on this problem](http://yann.lecun.com/exdb/publis/pdf/sermanet-ijcnn-11.pdf). It's not required to be familiar with the approach used in the paper but, it's good practice to try to read papers like these."
   ]
  },
  {
   "cell_type": "markdown",
   "metadata": {},
   "source": [
    "### Pre-process the Data Set (normalization, grayscale, etc.)"
   ]
  },
  {
   "cell_type": "markdown",
   "metadata": {},
   "source": [
    "Minimally, the image data should be normalized so that the data has mean zero and equal variance. For image data, `(pixel - 128)/ 128` is a quick way to approximately normalize the data and can be used in this project. \n",
    "\n",
    "Other pre-processing steps are optional. You can try different techniques to see if it improves performance. \n",
    "\n",
    "Use the code cell (or multiple code cells, if necessary) to implement the first step of your project."
   ]
  },
  {
   "cell_type": "code",
   "execution_count": null,
   "metadata": {},
   "outputs": [],
   "source": [
    "### Preprocess the data here. It is required to normalize the data. Other preprocessing steps could include \n",
    "### converting to grayscale, etc.\n",
    "### Feel free to use as many code cells as needed.\n",
    "n,w,h,d = X_train.shape\n",
    "new_train = np.zeros((n,w,h,d), np.float32)\n",
    "for k in range(101):\n",
    "    for i in range(w):\n",
    "        for j in range(h):\n",
    "            new_train[k][i][j] = (X_train[k][i][j])/127.5-1.0\n",
    "        \n",
    "X_train = new_train\n",
    "\n",
    "n,w,h,d = X_valid.shape\n",
    "new_valid = np.zeros((n,w,h,1), np.float32)\n",
    "for k in range(101):\n",
    "    for i in range(w):\n",
    "        for j in range(h):\n",
    "            new_valid[k][i][j] = (X_valid[k][i][j])/127.5-1.0\n",
    "            \n",
    "X_valid = new_valid\n",
    "\n",
    "n,w,h,d = X_test.shape\n",
    "new_test = np.zeros((n,w,h,1), np.float32)\n",
    "for k in range(101):\n",
    "    for i in range(w):\n",
    "        for j in range(h):\n",
    "            new_test[k][i][j] = (X_test[k][i][j])/127.5-1.0\n",
    "            \n",
    "X_test = new_test"
   ]
  },
  {
   "cell_type": "code",
   "execution_count": null,
   "metadata": {},
   "outputs": [],
   "source": [
    "X_train.shape"
   ]
  },
  {
   "cell_type": "code",
   "execution_count": null,
   "metadata": {},
   "outputs": [],
   "source": [
    "y_train[1100]\n"
   ]
  },
  {
   "cell_type": "code",
   "execution_count": 4,
   "metadata": {
    "collapsed": true
   },
   "outputs": [],
   "source": [
    "n = y_train.shape[0]\n",
    "\n",
    "new_train = np.zeros((n, n_classes), np.uint8)\n",
    "for i in range(n):\n",
    "    new_train[i][y_train[i]] = 1\n",
    "    \n",
    "y_train = new_train\n",
    "\n",
    "n = y_valid.shape[0]\n",
    "\n",
    "new_valid = np.zeros((n, n_classes), np.uint8)\n",
    "for i in range(n):\n",
    "    new_valid[i][y_valid[i]] = 1\n",
    "    \n",
    "y_valid = new_valid\n",
    "\n",
    "n = y_test.shape[0]\n",
    "\n",
    "new_test = np.zeros((n, n_classes), np.uint8)\n",
    "for i in range(n):\n",
    "    new_test[i][y_test[i]] = 1\n",
    "    \n",
    "y_test = new_test"
   ]
  },
  {
   "cell_type": "code",
   "execution_count": 5,
   "metadata": {},
   "outputs": [
    {
     "data": {
      "text/plain": [
       "array([0, 0, 0, 0, 0, 0, 0, 0, 0, 0, 0, 0, 0, 0, 0, 0, 0, 0, 0, 0, 0, 0, 0,\n",
       "       0, 0, 0, 0, 0, 0, 0, 0, 0, 0, 0, 0, 0, 0, 0, 0, 0, 0, 1, 0], dtype=uint8)"
      ]
     },
     "execution_count": 5,
     "metadata": {},
     "output_type": "execute_result"
    }
   ],
   "source": [
    "y_train[0]"
   ]
  },
  {
   "cell_type": "markdown",
   "metadata": {},
   "source": [
    "### Model Architecture"
   ]
  },
  {
   "cell_type": "code",
   "execution_count": null,
   "metadata": {
    "collapsed": true
   },
   "outputs": [],
   "source": [
    "import keras\n",
    "print(keras.__version__)\n"
   ]
  },
  {
   "cell_type": "code",
   "execution_count": 8,
   "metadata": {},
   "outputs": [],
   "source": [
    "### Define your architecture here.\n",
    "### Feel free to use as many code cells as needed.\n",
    "\n",
    "from keras.models import Sequential\n",
    "from keras.layers import Dense, Activation, Flatten, Lambda, Dropout\n",
    "from keras.layers.convolutional import Convolution2D\n",
    "from keras.layers.pooling import MaxPooling2D\n",
    "\n",
    "n,w,h,d = X_train.shape\n",
    "\n",
    "model = Sequential()\n",
    "model.add(Lambda(lambda x: x/127.5 - 1.0, input_shape=(w,h,d)))\n",
    "model.add(Convolution2D(16, 3, padding='same'))\n",
    "model.add(Convolution2D(32, 5,padding='same'))\n",
    "model.add(MaxPooling2D(strides=(2, 2)))\n",
    "model.add(Convolution2D(64, 3,padding='same'))\n",
    "model.add(MaxPooling2D())\n",
    "model.add(Convolution2D(64, 5,padding='same'))\n",
    "model.add(MaxPooling2D())\n",
    "model.add(Dropout(0.2))\n",
    "model.add(MaxPooling2D())\n",
    "model.add(Flatten())\n",
    "model.add(Dense(512))\n",
    "model.add(Activation(\"relu\"))\n",
    "model.add(Dense(128))\n",
    "model.add(Activation(\"relu\"))\n",
    "model.add(Dense(128))\n",
    "model.add(Activation(\"relu\"))\n",
    "model.add(Dense(n_classes))\n",
    "model.add(Activation(\"softmax\"))\n",
    "\n",
    "model.compile(optimizer=\"adam\", loss=\"categorical_crossentropy\", metrics=['accuracy'])\n"
   ]
  },
  {
   "cell_type": "code",
   "execution_count": null,
   "metadata": {
    "collapsed": true
   },
   "outputs": [],
   "source": []
  },
  {
   "cell_type": "code",
   "execution_count": 7,
   "metadata": {
    "collapsed": true
   },
   "outputs": [],
   "source": [
    "epochs = 50\n",
    "batch_size = 128"
   ]
  },
  {
   "cell_type": "markdown",
   "metadata": {},
   "source": [
    "### Train, Validate and Test the Model"
   ]
  },
  {
   "cell_type": "markdown",
   "metadata": {},
   "source": [
    "A validation set can be used to assess how well the model is performing. A low accuracy on the training and validation\n",
    "sets imply underfitting. A high accuracy on the training set but low accuracy on the validation set implies overfitting."
   ]
  },
  {
   "cell_type": "code",
   "execution_count": 9,
   "metadata": {},
   "outputs": [
    {
     "name": "stdout",
     "output_type": "stream",
     "text": [
      "Train on 34799 samples, validate on 4410 samples\n",
      "Epoch 1/50\n",
      "34799/34799 [==============================] - 17s - loss: 1.5528 - acc: 0.5494 - val_loss: 0.8471 - val_acc: 0.7392\n",
      "Epoch 2/50\n",
      "34799/34799 [==============================] - 15s - loss: 0.3372 - acc: 0.8942 - val_loss: 0.6196 - val_acc: 0.8372\n",
      "Epoch 3/50\n",
      "34799/34799 [==============================] - 15s - loss: 0.1594 - acc: 0.9502 - val_loss: 0.5268 - val_acc: 0.8739\n",
      "Epoch 4/50\n",
      "34799/34799 [==============================] - 15s - loss: 0.1074 - acc: 0.9654 - val_loss: 0.5415 - val_acc: 0.8753\n",
      "Epoch 5/50\n",
      "34799/34799 [==============================] - 15s - loss: 0.0836 - acc: 0.9739 - val_loss: 0.5439 - val_acc: 0.8941\n",
      "Epoch 6/50\n",
      "34799/34799 [==============================] - 15s - loss: 0.0721 - acc: 0.9775 - val_loss: 0.6259 - val_acc: 0.8794\n",
      "Epoch 7/50\n",
      "34799/34799 [==============================] - 15s - loss: 0.0615 - acc: 0.9811 - val_loss: 0.3568 - val_acc: 0.9204\n",
      "Epoch 8/50\n",
      "34799/34799 [==============================] - 15s - loss: 0.0482 - acc: 0.9848 - val_loss: 0.4405 - val_acc: 0.9084\n",
      "Epoch 9/50\n",
      "34799/34799 [==============================] - 15s - loss: 0.0533 - acc: 0.9837 - val_loss: 0.4071 - val_acc: 0.9218\n",
      "Epoch 10/50\n",
      "34799/34799 [==============================] - 15s - loss: 0.0627 - acc: 0.9812 - val_loss: 0.4470 - val_acc: 0.9254\n",
      "Epoch 11/50\n",
      "34799/34799 [==============================] - 15s - loss: 0.0373 - acc: 0.9893 - val_loss: 0.4543 - val_acc: 0.9236\n",
      "Epoch 12/50\n",
      "34799/34799 [==============================] - 15s - loss: 0.0473 - acc: 0.9865 - val_loss: 0.6940 - val_acc: 0.8898\n",
      "Epoch 13/50\n",
      "34799/34799 [==============================] - 15s - loss: 0.0443 - acc: 0.9869 - val_loss: 0.4352 - val_acc: 0.9204\n",
      "Epoch 14/50\n",
      "34799/34799 [==============================] - 15s - loss: 0.0350 - acc: 0.9893 - val_loss: 0.6186 - val_acc: 0.9122\n",
      "Epoch 15/50\n",
      "34799/34799 [==============================] - 15s - loss: 0.0311 - acc: 0.9915 - val_loss: 0.5980 - val_acc: 0.9116\n",
      "Epoch 16/50\n",
      "34799/34799 [==============================] - 15s - loss: 0.0508 - acc: 0.9863 - val_loss: 0.4873 - val_acc: 0.9209\n",
      "Epoch 17/50\n",
      "34799/34799 [==============================] - 15s - loss: 0.0309 - acc: 0.9910 - val_loss: 0.4764 - val_acc: 0.9211\n",
      "Epoch 18/50\n",
      "34799/34799 [==============================] - 15s - loss: 0.0301 - acc: 0.9915 - val_loss: 0.3550 - val_acc: 0.9392\n",
      "Epoch 19/50\n",
      "34799/34799 [==============================] - 15s - loss: 0.0378 - acc: 0.9899 - val_loss: 0.3437 - val_acc: 0.9397\n",
      "Epoch 20/50\n",
      "34799/34799 [==============================] - 15s - loss: 0.0279 - acc: 0.9924 - val_loss: 0.3718 - val_acc: 0.9410\n",
      "Epoch 21/50\n",
      "34799/34799 [==============================] - 15s - loss: 0.0397 - acc: 0.9899 - val_loss: 0.4973 - val_acc: 0.9288\n",
      "Epoch 22/50\n",
      "34799/34799 [==============================] - 15s - loss: 0.0247 - acc: 0.9930 - val_loss: 0.5370 - val_acc: 0.9293\n",
      "Epoch 23/50\n",
      "34799/34799 [==============================] - 15s - loss: 0.0344 - acc: 0.9903 - val_loss: 0.4261 - val_acc: 0.9367\n",
      "Epoch 24/50\n",
      "34799/34799 [==============================] - 15s - loss: 0.0298 - acc: 0.9916 - val_loss: 0.4068 - val_acc: 0.9349\n",
      "Epoch 25/50\n",
      "34799/34799 [==============================] - 15s - loss: 0.0383 - acc: 0.9896 - val_loss: 0.4548 - val_acc: 0.9372\n",
      "Epoch 26/50\n",
      "34799/34799 [==============================] - 15s - loss: 0.0282 - acc: 0.9925 - val_loss: 0.3868 - val_acc: 0.9413\n",
      "Epoch 27/50\n",
      "34799/34799 [==============================] - 15s - loss: 0.0227 - acc: 0.9938 - val_loss: 0.3148 - val_acc: 0.9478\n",
      "Epoch 28/50\n",
      "34799/34799 [==============================] - 15s - loss: 0.0250 - acc: 0.9939 - val_loss: 0.3892 - val_acc: 0.9467\n",
      "Epoch 29/50\n",
      "34799/34799 [==============================] - 15s - loss: 0.0193 - acc: 0.9947 - val_loss: 0.3673 - val_acc: 0.9490\n",
      "Epoch 30/50\n",
      "34799/34799 [==============================] - 15s - loss: 0.0301 - acc: 0.9930 - val_loss: 0.4121 - val_acc: 0.9336\n",
      "Epoch 31/50\n",
      "34799/34799 [==============================] - 15s - loss: 0.0326 - acc: 0.9919 - val_loss: 0.2887 - val_acc: 0.9456\n",
      "Epoch 32/50\n",
      "34799/34799 [==============================] - 15s - loss: 0.0284 - acc: 0.9924 - val_loss: 0.3041 - val_acc: 0.9481\n",
      "Epoch 33/50\n",
      "34799/34799 [==============================] - 15s - loss: 0.0200 - acc: 0.9949 - val_loss: 0.3641 - val_acc: 0.9431\n",
      "Epoch 34/50\n",
      "34799/34799 [==============================] - 15s - loss: 0.0392 - acc: 0.9904 - val_loss: 0.4082 - val_acc: 0.9372\n",
      "Epoch 35/50\n",
      "34799/34799 [==============================] - 15s - loss: 0.0290 - acc: 0.9927 - val_loss: 0.4039 - val_acc: 0.9433\n",
      "Epoch 36/50\n",
      "34799/34799 [==============================] - 15s - loss: 0.0209 - acc: 0.9945 - val_loss: 0.5862 - val_acc: 0.9238\n",
      "Epoch 37/50\n",
      "34799/34799 [==============================] - 15s - loss: 0.0270 - acc: 0.9929 - val_loss: 0.4737 - val_acc: 0.9383\n",
      "Epoch 38/50\n",
      "34799/34799 [==============================] - 15s - loss: 0.0265 - acc: 0.9934 - val_loss: 0.3920 - val_acc: 0.9422\n",
      "Epoch 39/50\n",
      "34799/34799 [==============================] - 15s - loss: 0.0184 - acc: 0.9953 - val_loss: 0.4392 - val_acc: 0.9431\n",
      "Epoch 40/50\n",
      "34799/34799 [==============================] - 15s - loss: 0.0227 - acc: 0.9944 - val_loss: 0.2797 - val_acc: 0.9569\n",
      "Epoch 41/50\n",
      "34799/34799 [==============================] - 15s - loss: 0.0263 - acc: 0.9937 - val_loss: 0.4132 - val_acc: 0.9454\n",
      "Epoch 42/50\n",
      "34799/34799 [==============================] - 15s - loss: 0.0270 - acc: 0.9939 - val_loss: 0.4154 - val_acc: 0.9390\n",
      "Epoch 43/50\n",
      "34799/34799 [==============================] - 15s - loss: 0.0233 - acc: 0.9939 - val_loss: 0.4029 - val_acc: 0.9449\n",
      "Epoch 44/50\n",
      "34799/34799 [==============================] - 15s - loss: 0.0177 - acc: 0.9954 - val_loss: 0.4456 - val_acc: 0.9306\n",
      "Epoch 45/50\n",
      "34799/34799 [==============================] - 15s - loss: 0.0191 - acc: 0.9954 - val_loss: 0.5366 - val_acc: 0.9363\n",
      "Epoch 46/50\n",
      "34799/34799 [==============================] - 15s - loss: 0.0261 - acc: 0.9946 - val_loss: 0.4218 - val_acc: 0.9367\n",
      "Epoch 47/50\n",
      "34799/34799 [==============================] - 15s - loss: 0.0258 - acc: 0.9941 - val_loss: 0.4763 - val_acc: 0.9417\n",
      "Epoch 48/50\n",
      "34799/34799 [==============================] - 15s - loss: 0.0302 - acc: 0.9931 - val_loss: 0.4582 - val_acc: 0.9431\n",
      "Epoch 49/50\n",
      "34799/34799 [==============================] - 15s - loss: 0.0172 - acc: 0.9962 - val_loss: 0.4060 - val_acc: 0.9460\n",
      "Epoch 50/50\n",
      "34799/34799 [==============================] - 15s - loss: 0.0301 - acc: 0.9922 - val_loss: 0.5726 - val_acc: 0.9342\n"
     ]
    },
    {
     "data": {
      "text/plain": [
       "<keras.callbacks.History at 0x7f806f907da0>"
      ]
     },
     "execution_count": 9,
     "metadata": {},
     "output_type": "execute_result"
    }
   ],
   "source": [
    "### Train your model here.\n",
    "### Calculate and report the accuracy on the training and validation set.\n",
    "### Once a final model architecture is selected, \n",
    "### the accuracy on the test set should be calculated and reported as well.\n",
    "### Feel free to use as many code cells as needed.\n",
    "# validation_data=(X_valid, y_valid)\n",
    "model.fit(X_train, y_train, epochs=epochs, batch_size=batch_size, verbose=1,validation_data=(X_valid, y_valid), shuffle=True)"
   ]
  },
  {
   "cell_type": "markdown",
   "metadata": {},
   "source": [
    "---\n",
    "\n",
    "## Step 3: Test a Model on New Images\n",
    "\n",
    "To give yourself more insight into how your model is working, download at least five pictures of German traffic signs from the web and use your model to predict the traffic sign type.\n",
    "\n",
    "You may find `signnames.csv` useful as it contains mappings from the class id (integer) to the actual sign name."
   ]
  },
  {
   "cell_type": "markdown",
   "metadata": {},
   "source": [
    "### Load and Output the Images"
   ]
  },
  {
   "cell_type": "code",
   "execution_count": 10,
   "metadata": {
    "collapsed": true
   },
   "outputs": [],
   "source": [
    "model.save(\"model_out.h5\")"
   ]
  },
  {
   "cell_type": "code",
   "execution_count": null,
   "metadata": {},
   "outputs": [],
   "source": [
    "### Load the images and plot them here.\n",
    "### Feel free to use as many code cells as needed.\n",
    "plt.imshow(X_test[0])"
   ]
  },
  {
   "cell_type": "markdown",
   "metadata": {},
   "source": [
    "### Predict the Sign Type for Each Image"
   ]
  },
  {
   "cell_type": "code",
   "execution_count": 13,
   "metadata": {},
   "outputs": [],
   "source": [
    "### Run the predictions here and use the model to output the prediction for each image.\n",
    "### Make sure to pre-process the images with the same pre-processing pipeline used earlier.\n",
    "### Feel free to use as many code cells as needed.\n",
    "\n",
    "predictions = model.predict(X_test)"
   ]
  },
  {
   "cell_type": "code",
   "execution_count": 15,
   "metadata": {},
   "outputs": [
    {
     "data": {
      "text/plain": [
       "array([[  5.27205405e-34,   1.32335943e-24,   9.68616690e-37,\n",
       "          4.16496456e-31,   1.12562631e-30,   1.84721149e-24,\n",
       "          0.00000000e+00,   2.79074298e-19,   8.01039177e-27,\n",
       "          5.28412127e-24,   1.25637875e-22,   8.78314226e-34,\n",
       "          2.59711271e-35,   0.00000000e+00,   0.00000000e+00,\n",
       "          2.03780151e-31,   1.00000000e+00,   9.16320644e-27,\n",
       "          0.00000000e+00,   0.00000000e+00,   3.03721367e-27,\n",
       "          5.73227537e-38,   0.00000000e+00,   0.00000000e+00,\n",
       "          0.00000000e+00,   1.89986902e-37,   1.10906790e-29,\n",
       "          6.93592472e-37,   1.55386207e-28,   9.00329519e-36,\n",
       "          5.09888525e-35,   0.00000000e+00,   0.00000000e+00,\n",
       "          1.36900316e-38,   1.54953592e-27,   0.00000000e+00,\n",
       "          0.00000000e+00,   9.41226133e-35,   0.00000000e+00,\n",
       "          0.00000000e+00,   1.18067652e-31,   2.79721908e-37,\n",
       "          0.00000000e+00],\n",
       "       [  0.00000000e+00,   1.00000000e+00,   5.92309222e-29,\n",
       "          0.00000000e+00,   3.84604295e-32,   1.18401531e-29,\n",
       "          2.63179681e-37,   2.45716596e-32,   9.29544933e-33,\n",
       "          0.00000000e+00,   0.00000000e+00,   0.00000000e+00,\n",
       "          0.00000000e+00,   0.00000000e+00,   0.00000000e+00,\n",
       "          0.00000000e+00,   0.00000000e+00,   0.00000000e+00,\n",
       "          0.00000000e+00,   0.00000000e+00,   0.00000000e+00,\n",
       "          0.00000000e+00,   0.00000000e+00,   0.00000000e+00,\n",
       "          0.00000000e+00,   0.00000000e+00,   0.00000000e+00,\n",
       "          0.00000000e+00,   0.00000000e+00,   0.00000000e+00,\n",
       "          0.00000000e+00,   0.00000000e+00,   0.00000000e+00,\n",
       "          0.00000000e+00,   0.00000000e+00,   0.00000000e+00,\n",
       "          0.00000000e+00,   0.00000000e+00,   0.00000000e+00,\n",
       "          0.00000000e+00,   0.00000000e+00,   0.00000000e+00,\n",
       "          0.00000000e+00],\n",
       "       [  0.00000000e+00,   0.00000000e+00,   0.00000000e+00,\n",
       "          0.00000000e+00,   0.00000000e+00,   0.00000000e+00,\n",
       "          0.00000000e+00,   0.00000000e+00,   0.00000000e+00,\n",
       "          0.00000000e+00,   0.00000000e+00,   0.00000000e+00,\n",
       "          0.00000000e+00,   0.00000000e+00,   0.00000000e+00,\n",
       "          0.00000000e+00,   0.00000000e+00,   0.00000000e+00,\n",
       "          0.00000000e+00,   0.00000000e+00,   0.00000000e+00,\n",
       "          0.00000000e+00,   0.00000000e+00,   0.00000000e+00,\n",
       "          0.00000000e+00,   0.00000000e+00,   0.00000000e+00,\n",
       "          0.00000000e+00,   0.00000000e+00,   0.00000000e+00,\n",
       "          0.00000000e+00,   0.00000000e+00,   0.00000000e+00,\n",
       "          0.00000000e+00,   0.00000000e+00,   0.00000000e+00,\n",
       "          0.00000000e+00,   0.00000000e+00,   1.00000000e+00,\n",
       "          0.00000000e+00,   0.00000000e+00,   0.00000000e+00,\n",
       "          0.00000000e+00],\n",
       "       [  0.00000000e+00,   0.00000000e+00,   0.00000000e+00,\n",
       "          0.00000000e+00,   0.00000000e+00,   0.00000000e+00,\n",
       "          0.00000000e+00,   0.00000000e+00,   0.00000000e+00,\n",
       "          0.00000000e+00,   0.00000000e+00,   0.00000000e+00,\n",
       "          0.00000000e+00,   0.00000000e+00,   0.00000000e+00,\n",
       "          0.00000000e+00,   0.00000000e+00,   0.00000000e+00,\n",
       "          0.00000000e+00,   0.00000000e+00,   0.00000000e+00,\n",
       "          0.00000000e+00,   0.00000000e+00,   0.00000000e+00,\n",
       "          0.00000000e+00,   0.00000000e+00,   0.00000000e+00,\n",
       "          0.00000000e+00,   0.00000000e+00,   0.00000000e+00,\n",
       "          0.00000000e+00,   0.00000000e+00,   0.00000000e+00,\n",
       "          1.00000000e+00,   0.00000000e+00,   0.00000000e+00,\n",
       "          0.00000000e+00,   0.00000000e+00,   0.00000000e+00,\n",
       "          0.00000000e+00,   0.00000000e+00,   0.00000000e+00,\n",
       "          0.00000000e+00],\n",
       "       [  0.00000000e+00,   2.31267841e-36,   1.27185344e-29,\n",
       "          0.00000000e+00,   5.90364882e-36,   2.03496106e-36,\n",
       "          6.01987697e-30,   2.34368089e-30,   0.00000000e+00,\n",
       "          0.00000000e+00,   2.05622366e-37,   1.00000000e+00,\n",
       "          2.76524713e-26,   0.00000000e+00,   0.00000000e+00,\n",
       "          3.74429779e-34,   0.00000000e+00,   3.46723473e-25,\n",
       "          9.72407255e-23,   0.00000000e+00,   8.88530136e-23,\n",
       "          2.78061952e-24,   0.00000000e+00,   1.50043578e-27,\n",
       "          3.72341338e-21,   1.26340272e-26,   7.24686839e-27,\n",
       "          1.47533737e-20,   3.24740637e-22,   7.36031251e-28,\n",
       "          1.35215806e-20,   0.00000000e+00,   0.00000000e+00,\n",
       "          2.03752891e-24,   0.00000000e+00,   8.63462682e-38,\n",
       "          0.00000000e+00,   1.11184697e-36,   0.00000000e+00,\n",
       "          1.59942996e-36,   4.89376976e-38,   4.43311356e-36,\n",
       "          6.25808546e-29],\n",
       "       [  0.00000000e+00,   0.00000000e+00,   0.00000000e+00,\n",
       "          0.00000000e+00,   0.00000000e+00,   0.00000000e+00,\n",
       "          0.00000000e+00,   0.00000000e+00,   0.00000000e+00,\n",
       "          0.00000000e+00,   0.00000000e+00,   0.00000000e+00,\n",
       "          0.00000000e+00,   0.00000000e+00,   0.00000000e+00,\n",
       "          0.00000000e+00,   0.00000000e+00,   0.00000000e+00,\n",
       "          0.00000000e+00,   0.00000000e+00,   0.00000000e+00,\n",
       "          0.00000000e+00,   0.00000000e+00,   0.00000000e+00,\n",
       "          0.00000000e+00,   0.00000000e+00,   0.00000000e+00,\n",
       "          0.00000000e+00,   0.00000000e+00,   0.00000000e+00,\n",
       "          0.00000000e+00,   0.00000000e+00,   0.00000000e+00,\n",
       "          0.00000000e+00,   0.00000000e+00,   0.00000000e+00,\n",
       "          0.00000000e+00,   0.00000000e+00,   1.00000000e+00,\n",
       "          0.00000000e+00,   0.00000000e+00,   0.00000000e+00,\n",
       "          0.00000000e+00],\n",
       "       [  0.00000000e+00,   0.00000000e+00,   0.00000000e+00,\n",
       "          0.00000000e+00,   0.00000000e+00,   0.00000000e+00,\n",
       "          0.00000000e+00,   0.00000000e+00,   0.00000000e+00,\n",
       "          0.00000000e+00,   0.00000000e+00,   0.00000000e+00,\n",
       "          0.00000000e+00,   0.00000000e+00,   0.00000000e+00,\n",
       "          0.00000000e+00,   0.00000000e+00,   0.00000000e+00,\n",
       "          1.00000000e+00,   0.00000000e+00,   0.00000000e+00,\n",
       "          0.00000000e+00,   0.00000000e+00,   0.00000000e+00,\n",
       "          0.00000000e+00,   0.00000000e+00,   0.00000000e+00,\n",
       "          0.00000000e+00,   0.00000000e+00,   0.00000000e+00,\n",
       "          0.00000000e+00,   0.00000000e+00,   0.00000000e+00,\n",
       "          0.00000000e+00,   0.00000000e+00,   0.00000000e+00,\n",
       "          0.00000000e+00,   0.00000000e+00,   0.00000000e+00,\n",
       "          0.00000000e+00,   0.00000000e+00,   0.00000000e+00,\n",
       "          0.00000000e+00],\n",
       "       [  0.00000000e+00,   0.00000000e+00,   0.00000000e+00,\n",
       "          1.38340670e-33,   0.00000000e+00,   0.00000000e+00,\n",
       "          0.00000000e+00,   0.00000000e+00,   0.00000000e+00,\n",
       "          5.36907397e-32,   2.05306815e-34,   2.51429894e-36,\n",
       "          1.00000000e+00,   5.94023798e-31,   1.92600932e-35,\n",
       "          0.00000000e+00,   0.00000000e+00,   3.25235124e-38,\n",
       "          0.00000000e+00,   0.00000000e+00,   0.00000000e+00,\n",
       "          5.59954173e-34,   3.46499381e-36,   3.05008364e-31,\n",
       "          0.00000000e+00,   1.63517960e-30,   0.00000000e+00,\n",
       "          0.00000000e+00,   0.00000000e+00,   0.00000000e+00,\n",
       "          2.10153795e-35,   0.00000000e+00,   8.52817909e-29,\n",
       "          0.00000000e+00,   0.00000000e+00,   0.00000000e+00,\n",
       "          1.14047495e-34,   2.56014118e-32,   7.55441260e-32,\n",
       "          8.04555170e-26,   5.18282961e-38,   7.87125236e-30,\n",
       "          4.79577855e-33],\n",
       "       [  0.00000000e+00,   0.00000000e+00,   0.00000000e+00,\n",
       "          0.00000000e+00,   0.00000000e+00,   0.00000000e+00,\n",
       "          0.00000000e+00,   0.00000000e+00,   0.00000000e+00,\n",
       "          0.00000000e+00,   0.00000000e+00,   0.00000000e+00,\n",
       "          0.00000000e+00,   0.00000000e+00,   0.00000000e+00,\n",
       "          0.00000000e+00,   0.00000000e+00,   0.00000000e+00,\n",
       "          0.00000000e+00,   0.00000000e+00,   0.00000000e+00,\n",
       "          0.00000000e+00,   0.00000000e+00,   0.00000000e+00,\n",
       "          0.00000000e+00,   1.00000000e+00,   0.00000000e+00,\n",
       "          0.00000000e+00,   0.00000000e+00,   0.00000000e+00,\n",
       "          0.00000000e+00,   0.00000000e+00,   0.00000000e+00,\n",
       "          0.00000000e+00,   0.00000000e+00,   0.00000000e+00,\n",
       "          0.00000000e+00,   0.00000000e+00,   0.00000000e+00,\n",
       "          0.00000000e+00,   0.00000000e+00,   0.00000000e+00,\n",
       "          0.00000000e+00],\n",
       "       [  0.00000000e+00,   0.00000000e+00,   1.96438753e-26,\n",
       "          1.94753045e-28,   0.00000000e+00,   0.00000000e+00,\n",
       "          0.00000000e+00,   1.75332863e-37,   6.22294155e-31,\n",
       "          5.76398693e-29,   0.00000000e+00,   1.72803703e-29,\n",
       "          0.00000000e+00,   3.88730894e-27,   0.00000000e+00,\n",
       "          4.35147293e-26,   0.00000000e+00,   0.00000000e+00,\n",
       "          0.00000000e+00,   1.62056002e-32,   0.00000000e+00,\n",
       "          0.00000000e+00,   3.37770719e-38,   0.00000000e+00,\n",
       "          1.08932028e-34,   6.25381821e-35,   0.00000000e+00,\n",
       "          1.22163756e-36,   3.32004103e-24,   0.00000000e+00,\n",
       "          0.00000000e+00,   0.00000000e+00,   1.80854141e-32,\n",
       "          5.23723104e-21,   6.26256675e-24,   1.00000000e+00,\n",
       "          9.21752571e-24,   7.33731938e-37,   3.28926156e-36,\n",
       "          0.00000000e+00,   1.38967190e-29,   4.79071481e-25,\n",
       "          0.00000000e+00]], dtype=float32)"
      ]
     },
     "execution_count": 15,
     "metadata": {},
     "output_type": "execute_result"
    }
   ],
   "source": [
    "predictions[:10]"
   ]
  },
  {
   "cell_type": "markdown",
   "metadata": {},
   "source": [
    "### Analyze Performance"
   ]
  },
  {
   "cell_type": "code",
   "execution_count": 11,
   "metadata": {},
   "outputs": [
    {
     "name": "stdout",
     "output_type": "stream",
     "text": [
      "12630/12630 [==============================] - 2s     \n"
     ]
    },
    {
     "data": {
      "text/plain": [
       "[0.47330600919451399, 0.94085510690723817]"
      ]
     },
     "execution_count": 11,
     "metadata": {},
     "output_type": "execute_result"
    }
   ],
   "source": [
    "### Calculate the accuracy for these 5 new images. \n",
    "### For example, if the model predicted 1 out of 5 signs correctly, it's 20% accurate on these new images.\n",
    "model.evaluate(X_test, y_test)"
   ]
  },
  {
   "cell_type": "code",
   "execution_count": 16,
   "metadata": {},
   "outputs": [
    {
     "data": {
      "text/plain": [
       "['loss', 'acc']"
      ]
     },
     "execution_count": 16,
     "metadata": {},
     "output_type": "execute_result"
    }
   ],
   "source": [
    "model.metrics_names"
   ]
  },
  {
   "cell_type": "markdown",
   "metadata": {},
   "source": [
    "### Output Top 5 Softmax Probabilities For Each Image Found on the Web"
   ]
  },
  {
   "cell_type": "markdown",
   "metadata": {},
   "source": [
    "For each of the new images, print out the model's softmax probabilities to show the **certainty** of the model's predictions (limit the output to the top 5 probabilities for each image). [`tf.nn.top_k`](https://www.tensorflow.org/versions/r0.12/api_docs/python/nn.html#top_k) could prove helpful here. \n",
    "\n",
    "The example below demonstrates how tf.nn.top_k can be used to find the top k predictions for each image.\n",
    "\n",
    "`tf.nn.top_k` will return the values and indices (class ids) of the top k predictions. So if k=3, for each sign, it'll return the 3 largest probabilities (out of a possible 43) and the correspoding class ids.\n",
    "\n",
    "Take this numpy array as an example. The values in the array represent predictions. The array contains softmax probabilities for five candidate images with six possible classes. `tk.nn.top_k` is used to choose the three classes with the highest probability:\n",
    "\n",
    "```\n",
    "# (5, 6) array\n",
    "a = np.array([[ 0.24879643,  0.07032244,  0.12641572,  0.34763842,  0.07893497,\n",
    "         0.12789202],\n",
    "       [ 0.28086119,  0.27569815,  0.08594638,  0.0178669 ,  0.18063401,\n",
    "         0.15899337],\n",
    "       [ 0.26076848,  0.23664738,  0.08020603,  0.07001922,  0.1134371 ,\n",
    "         0.23892179],\n",
    "       [ 0.11943333,  0.29198961,  0.02605103,  0.26234032,  0.1351348 ,\n",
    "         0.16505091],\n",
    "       [ 0.09561176,  0.34396535,  0.0643941 ,  0.16240774,  0.24206137,\n",
    "         0.09155967]])\n",
    "```\n",
    "\n",
    "Running it through `sess.run(tf.nn.top_k(tf.constant(a), k=3))` produces:\n",
    "\n",
    "```\n",
    "TopKV2(values=array([[ 0.34763842,  0.24879643,  0.12789202],\n",
    "       [ 0.28086119,  0.27569815,  0.18063401],\n",
    "       [ 0.26076848,  0.23892179,  0.23664738],\n",
    "       [ 0.29198961,  0.26234032,  0.16505091],\n",
    "       [ 0.34396535,  0.24206137,  0.16240774]]), indices=array([[3, 0, 5],\n",
    "       [0, 1, 4],\n",
    "       [0, 5, 1],\n",
    "       [1, 3, 5],\n",
    "       [1, 4, 3]], dtype=int32))\n",
    "```\n",
    "\n",
    "Looking just at the first row we get `[ 0.34763842,  0.24879643,  0.12789202]`, you can confirm these are the 3 largest probabilities in `a`. You'll also notice `[3, 0, 5]` are the corresponding indices."
   ]
  },
  {
   "cell_type": "code",
   "execution_count": 21,
   "metadata": {
    "collapsed": true
   },
   "outputs": [],
   "source": [
    "xt, labels = test['features'], test['labels']"
   ]
  },
  {
   "cell_type": "code",
   "execution_count": 22,
   "metadata": {},
   "outputs": [
    {
     "data": {
      "text/plain": [
       "<tf.Tensor 'InTopK_2:0' shape=(12630,) dtype=bool>"
      ]
     },
     "execution_count": 22,
     "metadata": {},
     "output_type": "execute_result"
    }
   ],
   "source": [
    "### Print out the top five softmax probabilities for the predictions on the German traffic sign images found on the web. \n",
    "### Feel free to use as many code cells as needed.\n",
    "\n",
    "from keras.backend import in_top_k\n",
    "\n",
    "top = in_top_k(predictions, labels, 5)"
   ]
  },
  {
   "cell_type": "markdown",
   "metadata": {},
   "source": [
    "### Project Writeup\n",
    "\n",
    "Once you have completed the code implementation, document your results in a project writeup using this [template](https://github.com/udacity/CarND-Traffic-Sign-Classifier-Project/blob/master/writeup_template.md) as a guide. The writeup can be in a markdown or pdf file. "
   ]
  },
  {
   "cell_type": "markdown",
   "metadata": {},
   "source": [
    "> **Note**: Once you have completed all of the code implementations and successfully answered each question above, you may finalize your work by exporting the iPython Notebook as an HTML document. You can do this by using the menu above and navigating to  \\n\",\n",
    "    \"**File -> Download as -> HTML (.html)**. Include the finished document along with this notebook as your submission."
   ]
  },
  {
   "cell_type": "markdown",
   "metadata": {},
   "source": [
    "---\n",
    "\n",
    "## Step 4 (Optional): Visualize the Neural Network's State with Test Images\n",
    "\n",
    " This Section is not required to complete but acts as an additional excersise for understaning the output of a neural network's weights. While neural networks can be a great learning device they are often referred to as a black box. We can understand what the weights of a neural network look like better by plotting their feature maps. After successfully training your neural network you can see what it's feature maps look like by plotting the output of the network's weight layers in response to a test stimuli image. From these plotted feature maps, it's possible to see what characteristics of an image the network finds interesting. For a sign, maybe the inner network feature maps react with high activation to the sign's boundary outline or to the contrast in the sign's painted symbol.\n",
    "\n",
    " Provided for you below is the function code that allows you to get the visualization output of any tensorflow weight layer you want. The inputs to the function should be a stimuli image, one used during training or a new one you provided, and then the tensorflow variable name that represents the layer's state during the training process, for instance if you wanted to see what the [LeNet lab's](https://classroom.udacity.com/nanodegrees/nd013/parts/fbf77062-5703-404e-b60c-95b78b2f3f9e/modules/6df7ae49-c61c-4bb2-a23e-6527e69209ec/lessons/601ae704-1035-4287-8b11-e2c2716217ad/concepts/d4aca031-508f-4e0b-b493-e7b706120f81) feature maps looked like for it's second convolutional layer you could enter conv2 as the tf_activation variable.\n",
    "\n",
    "For an example of what feature map outputs look like, check out NVIDIA's results in their paper [End-to-End Deep Learning for Self-Driving Cars](https://devblogs.nvidia.com/parallelforall/deep-learning-self-driving-cars/) in the section Visualization of internal CNN State. NVIDIA was able to show that their network's inner weights had high activations to road boundary lines by comparing feature maps from an image with a clear path to one without. Try experimenting with a similar test to show that your trained network's weights are looking for interesting features, whether it's looking at differences in feature maps from images with or without a sign, or even what feature maps look like in a trained network vs a completely untrained one on the same sign image.\n",
    "\n",
    "<figure>\n",
    " <img src=\"visualize_cnn.png\" width=\"380\" alt=\"Combined Image\" />\n",
    " <figcaption>\n",
    " <p></p> \n",
    " <p style=\"text-align: center;\"> Your output should look something like this (above)</p> \n",
    " </figcaption>\n",
    "</figure>\n",
    " <p></p> \n"
   ]
  },
  {
   "cell_type": "code",
   "execution_count": null,
   "metadata": {
    "collapsed": true
   },
   "outputs": [],
   "source": [
    "### Visualize your network's feature maps here.\n",
    "### Feel free to use as many code cells as needed.\n",
    "\n",
    "# image_input: the test image being fed into the network to produce the feature maps\n",
    "# tf_activation: should be a tf variable name used during your training procedure that represents the calculated state of a specific weight layer\n",
    "# activation_min/max: can be used to view the activation contrast in more detail, by default matplot sets min and max to the actual min and max values of the output\n",
    "# plt_num: used to plot out multiple different weight feature map sets on the same block, just extend the plt number for each new feature map entry\n",
    "\n",
    "def outputFeatureMap(image_input, tf_activation, activation_min=-1, activation_max=-1 ,plt_num=1):\n",
    "    # Here make sure to preprocess your image_input in a way your network expects\n",
    "    # with size, normalization, ect if needed\n",
    "    # image_input =\n",
    "    # Note: x should be the same name as your network's tensorflow data placeholder variable\n",
    "    # If you get an error tf_activation is not defined it may be having trouble accessing the variable from inside a function\n",
    "    activation = tf_activation.eval(session=sess,feed_dict={x : image_input})\n",
    "    featuremaps = activation.shape[3]\n",
    "    plt.figure(plt_num, figsize=(15,15))\n",
    "    for featuremap in range(featuremaps):\n",
    "        plt.subplot(6,8, featuremap+1) # sets the number of feature maps to show on each row and column\n",
    "        plt.title('FeatureMap ' + str(featuremap)) # displays the feature map number\n",
    "        if activation_min != -1 & activation_max != -1:\n",
    "            plt.imshow(activation[0,:,:, featuremap], interpolation=\"nearest\", vmin =activation_min, vmax=activation_max, cmap=\"gray\")\n",
    "        elif activation_max != -1:\n",
    "            plt.imshow(activation[0,:,:, featuremap], interpolation=\"nearest\", vmax=activation_max, cmap=\"gray\")\n",
    "        elif activation_min !=-1:\n",
    "            plt.imshow(activation[0,:,:, featuremap], interpolation=\"nearest\", vmin=activation_min, cmap=\"gray\")\n",
    "        else:\n",
    "            plt.imshow(activation[0,:,:, featuremap], interpolation=\"nearest\", cmap=\"gray\")"
   ]
  }
 ],
 "metadata": {
  "anaconda-cloud": {},
  "kernelspec": {
   "display_name": "Python 3",
   "language": "python",
   "name": "python3"
  },
  "language_info": {
   "codemirror_mode": {
    "name": "ipython",
    "version": 3
   },
   "file_extension": ".py",
   "mimetype": "text/x-python",
   "name": "python",
   "nbconvert_exporter": "python",
   "pygments_lexer": "ipython3",
   "version": "3.5.2"
  },
  "widgets": {
   "state": {},
   "version": "1.1.2"
  }
 },
 "nbformat": 4,
 "nbformat_minor": 1
}
